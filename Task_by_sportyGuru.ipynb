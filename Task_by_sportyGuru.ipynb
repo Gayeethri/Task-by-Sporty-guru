{
  "nbformat": 4,
  "nbformat_minor": 0,
  "metadata": {
    "colab": {
      "name": "Task by sportyGuru",
      "provenance": []
    },
    "kernelspec": {
      "name": "python3",
      "display_name": "Python 3"
    },
    "language_info": {
      "name": "python"
    }
  },
  "cells": [
    {
      "cell_type": "code",
      "metadata": {
        "id": "hbxeg2dZ2mkA"
      },
      "source": [
        "import tensorflow as tf\n",
        "import matplotlib.pyplot as plt"
      ],
      "execution_count": 1,
      "outputs": []
    },
    {
      "cell_type": "code",
      "metadata": {
        "id": "zdHAYWvZ2sAC"
      },
      "source": [
        "from tensorflow.keras.datasets import cifar10"
      ],
      "execution_count": 3,
      "outputs": []
    },
    {
      "cell_type": "code",
      "metadata": {
        "colab": {
          "base_uri": "https://localhost:8080/"
        },
        "id": "WvyY_GnY2ygD",
        "outputId": "112825ea-e729-40d5-a571-176a808ce07b"
      },
      "source": [
        "# setting class names\n",
        "class_names=['airplane','automobile','bird','cat','deer','dog','frog','horse','ship','truck']\n",
        "#loading the dataset\n",
        "(x_train,y_train),(x_test,y_test)=cifar10.load_data()"
      ],
      "execution_count": 4,
      "outputs": [
        {
          "output_type": "stream",
          "text": [
            "Downloading data from https://www.cs.toronto.edu/~kriz/cifar-10-python.tar.gz\n",
            "170500096/170498071 [==============================] - 2s 0us/step\n"
          ],
          "name": "stdout"
        }
      ]
    },
    {
      "cell_type": "code",
      "metadata": {
        "colab": {
          "base_uri": "https://localhost:8080/"
        },
        "id": "i2kGQVQJ2yx2",
        "outputId": "8308ab5b-657b-4aa7-bba5-8ff4910ec0e8"
      },
      "source": [
        "x_train=x_train/255.0\n",
        "x_train.shape"
      ],
      "execution_count": 5,
      "outputs": [
        {
          "output_type": "execute_result",
          "data": {
            "text/plain": [
              "(50000, 32, 32, 3)"
            ]
          },
          "metadata": {
            "tags": []
          },
          "execution_count": 5
        }
      ]
    },
    {
      "cell_type": "code",
      "metadata": {
        "colab": {
          "base_uri": "https://localhost:8080/"
        },
        "id": "oZHNX7Tk2y5S",
        "outputId": "653391e7-7826-4919-b336-78f6c0f367c6"
      },
      "source": [
        "x_test=x_test/255.0\n",
        "x_test.shape"
      ],
      "execution_count": 6,
      "outputs": [
        {
          "output_type": "execute_result",
          "data": {
            "text/plain": [
              "(10000, 32, 32, 3)"
            ]
          },
          "metadata": {
            "tags": []
          },
          "execution_count": 6
        }
      ]
    },
    {
      "cell_type": "code",
      "metadata": {
        "colab": {
          "base_uri": "https://localhost:8080/",
          "height": 283
        },
        "id": "LmG5PCkP2y81",
        "outputId": "d346761a-c573-432e-984b-e2fcb26d3ef3"
      },
      "source": [
        "plt.imshow(x_test[215])"
      ],
      "execution_count": 7,
      "outputs": [
        {
          "output_type": "execute_result",
          "data": {
            "text/plain": [
              "<matplotlib.image.AxesImage at 0x7f8885dd6450>"
            ]
          },
          "metadata": {
            "tags": []
          },
          "execution_count": 7
        },
        {
          "output_type": "display_data",
          "data": {
            "image/png": "[encoded data removed]",
            "text/plain": [
              "<Figure size 432x288 with 1 Axes>"
            ]
          },
          "metadata": {
            "tags": [],
            "needs_background": "light"
          }
        }
      ]
    },
    {
      "cell_type": "code",
      "metadata": {
        "id": "sMcN8dsg2y_7"
      },
      "source": [
        "cifar10_model=tf.keras.models.Sequential()"
      ],
      "execution_count": 8,
      "outputs": []
    },
    {
      "cell_type": "code",
      "metadata": {
        "id": "2ocy81O82zCy"
      },
      "source": [
        "# NetA\n",
        "cifar10_model.add(tf.keras.layers.Conv2D(filters=32,kernel_size=3,padding=\"same\", activation=\"relu\", input_shape=[32,32,3]))"
      ],
      "execution_count": 9,
      "outputs": []
    },
    {
      "cell_type": "code",
      "metadata": {
        "id": "duNiLzcg2zFf"
      },
      "source": [
        "# NetB\n",
        "cifar10_model.add(tf.keras.layers.Conv2D(filters=32,kernel_size=3,padding=\"same\", activation=\"relu\"))"
      ],
      "execution_count": 10,
      "outputs": []
    },
    {
      "cell_type": "code",
      "metadata": {
        "id": "douALZu12zIe"
      },
      "source": [
        "# Max Pooling Layer\n",
        "cifar10_model.add(tf.keras.layers.MaxPool2D(pool_size=2,strides=2,padding='valid'))"
      ],
      "execution_count": 11,
      "outputs": []
    },
    {
      "cell_type": "code",
      "metadata": {
        "id": "3wSVQD5F2zOR"
      },
      "source": [
        "# NetC\n",
        "cifar10_model.add(tf.keras.layers.Conv2D(filters=64,kernel_size=3,padding=\"same\", activation=\"relu\"))"
      ],
      "execution_count": 12,
      "outputs": []
    },
    {
      "cell_type": "code",
      "metadata": {
        "id": "K3F0DgZb2zUE"
      },
      "source": [
        "# Max Pooling Layer\n",
        "cifar10_model.add(tf.keras.layers.MaxPool2D(pool_size=2,strides=2,padding='valid'))"
      ],
      "execution_count": 14,
      "outputs": []
    },
    {
      "cell_type": "code",
      "metadata": {
        "id": "1dhKsc-b3R90"
      },
      "source": [
        "# Adding the first fully connected layer\n",
        "cifar10_model.add(tf.keras.layers.Dense(units=128,activation='relu'))"
      ],
      "execution_count": 17,
      "outputs": []
    },
    {
      "cell_type": "code",
      "metadata": {
        "id": "me6hQ-Ze3SEh"
      },
      "source": [
        "# Output Layer\n",
        "cifar10_model.add(tf.keras.layers.Dense(units=10,activation='softmax'))"
      ],
      "execution_count": 18,
      "outputs": []
    },
    {
      "cell_type": "code",
      "metadata": {
        "colab": {
          "base_uri": "https://localhost:8080/"
        },
        "id": "t5eWIz_A3gAr",
        "outputId": "695d1c26-8289-4b0e-bcfa-51008b6d869b"
      },
      "source": [
        "cifar10_model.summary()"
      ],
      "execution_count": 19,
      "outputs": [
        {
          "output_type": "stream",
          "text": [
            "Model: \"sequential\"\n",
            "_________________________________________________________________\n",
            "Layer (type)                 Output Shape              Param #   \n",
            "=================================================================\n",
            "conv2d (Conv2D)              (None, 32, 32, 32)        896       \n",
            "_________________________________________________________________\n",
            "conv2d_1 (Conv2D)            (None, 32, 32, 32)        9248      \n",
            "_________________________________________________________________\n",
            "max_pooling2d (MaxPooling2D) (None, 16, 16, 32)        0         \n",
            "_________________________________________________________________\n",
            "conv2d_2 (Conv2D)            (None, 16, 16, 64)        18496     \n",
            "_________________________________________________________________\n",
            "conv2d_3 (Conv2D)            (None, 16, 16, 64)        36928     \n",
            "_________________________________________________________________\n",
            "max_pooling2d_1 (MaxPooling2 (None, 8, 8, 64)          0         \n",
            "_________________________________________________________________\n",
            "flatten (Flatten)            (None, 4096)              0         \n",
            "_________________________________________________________________\n",
            "dropout (Dropout)            (None, 4096)              0         \n",
            "_________________________________________________________________\n",
            "dense (Dense)                (None, 128)               524416    \n",
            "_________________________________________________________________\n",
            "dense_1 (Dense)              (None, 10)                1290      \n",
            "=================================================================\n",
            "Total params: 591,274\n",
            "Trainable params: 591,274\n",
            "Non-trainable params: 0\n",
            "_________________________________________________________________\n"
          ],
          "name": "stdout"
        }
      ]
    },
    {
      "cell_type": "code",
      "metadata": {
        "id": "r0a7_6Xc3gHQ"
      },
      "source": [
        "cifar10_model.compile(loss=\"sparse_categorical_crossentropy\", optimizer=\"Adam\", metrics=[\"sparse_categorical_accuracy\"])"
      ],
      "execution_count": 20,
      "outputs": []
    },
    {
      "cell_type": "code",
      "metadata": {
        "colab": {
          "base_uri": "https://localhost:8080/"
        },
        "id": "UDG1Lzgv3gM_",
        "outputId": "6d6e144e-5050-4779-c6a2-34b6c881796e"
      },
      "source": [
        "cifar10_model.fit(x_train,y_train,epochs=15)"
      ],
      "execution_count": 24,
      "outputs": [
        {
          "output_type": "stream",
          "text": [
            "Epoch 1/15\n",
            "1563/1563 [==============================] - 253s 162ms/step - loss: 0.9632 - sparse_categorical_accuracy: 0.6576\n",
            "Epoch 2/15\n",
            "1563/1563 [==============================] - 250s 160ms/step - loss: 0.8325 - sparse_categorical_accuracy: 0.7030\n",
            "Epoch 3/15\n",
            "1563/1563 [==============================] - 249s 159ms/step - loss: 0.7501 - sparse_categorical_accuracy: 0.7357\n",
            "Epoch 4/15\n",
            "1563/1563 [==============================] - 249s 159ms/step - loss: 0.6861 - sparse_categorical_accuracy: 0.7582\n",
            "Epoch 5/15\n",
            "1563/1563 [==============================] - 248s 159ms/step - loss: 0.6372 - sparse_categorical_accuracy: 0.7746\n",
            "Epoch 6/15\n",
            "1563/1563 [==============================] - 247s 158ms/step - loss: 0.5927 - sparse_categorical_accuracy: 0.7916\n",
            "Epoch 7/15\n",
            "1563/1563 [==============================] - 248s 159ms/step - loss: 0.5601 - sparse_categorical_accuracy: 0.8024\n",
            "Epoch 8/15\n",
            "1563/1563 [==============================] - 249s 159ms/step - loss: 0.5266 - sparse_categorical_accuracy: 0.8134\n",
            "Epoch 9/15\n",
            "1563/1563 [==============================] - 247s 158ms/step - loss: 0.5034 - sparse_categorical_accuracy: 0.8204\n",
            "Epoch 10/15\n",
            "1563/1563 [==============================] - 247s 158ms/step - loss: 0.4728 - sparse_categorical_accuracy: 0.8314\n",
            "Epoch 11/15\n",
            "1563/1563 [==============================] - 248s 159ms/step - loss: 0.4533 - sparse_categorical_accuracy: 0.8416\n",
            "Epoch 12/15\n",
            "1563/1563 [==============================] - 248s 159ms/step - loss: 0.4341 - sparse_categorical_accuracy: 0.8439\n",
            "Epoch 13/15\n",
            "1563/1563 [==============================] - 249s 159ms/step - loss: 0.4126 - sparse_categorical_accuracy: 0.8534\n",
            "Epoch 14/15\n",
            "1563/1563 [==============================] - 251s 160ms/step - loss: 0.4044 - sparse_categorical_accuracy: 0.8559\n",
            "Epoch 15/15\n",
            "1563/1563 [==============================] - 248s 159ms/step - loss: 0.3886 - sparse_categorical_accuracy: 0.8619\n"
          ],
          "name": "stdout"
        },
        {
          "output_type": "execute_result",
          "data": {
            "text/plain": [
              "<tensorflow.python.keras.callbacks.History at 0x7f887de89c10>"
            ]
          },
          "metadata": {
            "tags": []
          },
          "execution_count": 24
        }
      ]
    },
    {
      "cell_type": "code",
      "metadata": {
        "colab": {
          "base_uri": "https://localhost:8080/"
        },
        "id": "8lyJoIYaHmZ7",
        "outputId": "9522f85c-2277-4422-e728-5b3076316a89"
      },
      "source": [
        "test_loss, test_accuracy = cifar10_model.evaluate(x_test, y_test)"
      ],
      "execution_count": 25,
      "outputs": [
        {
          "output_type": "stream",
          "text": [
            "313/313 [==============================] - 12s 37ms/step - loss: 0.6815 - sparse_categorical_accuracy: 0.7821\n"
          ],
          "name": "stdout"
        }
      ]
    },
    {
      "cell_type": "code",
      "metadata": {
        "colab": {
          "base_uri": "https://localhost:8080/"
        },
        "id": "whtCSF0YHt_p",
        "outputId": "534697d4-dff0-4cf5-8f7e-1e8202cf3c8d"
      },
      "source": [
        "print(\"Test accuracy: {}\".format(test_accuracy))"
      ],
      "execution_count": 26,
      "outputs": [
        {
          "output_type": "stream",
          "text": [
            "Test accuracy: 0.7821000218391418\n"
          ],
          "name": "stdout"
        }
      ]
    }
  ]
}